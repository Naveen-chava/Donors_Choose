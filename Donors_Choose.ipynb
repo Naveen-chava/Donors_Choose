{
 "cells": [
  {
   "cell_type": "code",
   "execution_count": 1,
   "metadata": {
    "_cell_guid": "b1076dfc-b9ad-4769-8c92-a6c4dae69d19",
    "_uuid": "8f2839f25d086af736a60e9eeb907d3b93b6e0e5"
   },
   "outputs": [],
   "source": [
    "# importing libraries\n",
    "\n",
    "import re\n",
    "\n",
    "import numpy as np \n",
    "import pandas as pd \n",
    "\n",
    "from tqdm import tqdm\n",
    "\n",
    "from sklearn.model_selection import train_test_split\n",
    "from sklearn.preprocessing import LabelEncoder\n",
    "\n",
    "from tensorflow.keras.preprocessing.text import Tokenizer\n",
    "from tensorflow.keras.preprocessing.sequence import pad_sequences\n",
    "\n",
    "\n",
    "import tensorflow as tf\n",
    "from tensorflow.keras.models import Model\n",
    "from tensorflow.keras import regularizers\n",
    "from tensorflow.keras.utils import plot_model\n",
    "from tensorflow.keras.callbacks import ReduceLROnPlateau, EarlyStopping\n",
    "from tensorflow.keras.layers import Embedding, Bidirectional, LSTM, GlobalMaxPool1D\n",
    "from tensorflow.keras.layers import Flatten, Dense, concatenate, Conv1D, Dropout, Input, BatchNormalization"
   ]
  },
  {
   "cell_type": "code",
   "execution_count": 2,
   "metadata": {
    "_cell_guid": "79c7e3d0-c299-4dcb-8224-4455121ee9b0",
    "_uuid": "d629ff2d2480ee46fbb7e2d37f6b5fab8052498a"
   },
   "outputs": [
    {
     "name": "stdout",
     "output_type": "stream",
     "text": [
      "Train data shape:  (182080, 16)\n",
      "Test data shape:  (78035, 15)\n",
      "Sample data shape:  (78035, 2)\n"
     ]
    },
    {
     "name": "stderr",
     "output_type": "stream",
     "text": [
      "/opt/conda/lib/python3.7/site-packages/IPython/core/interactiveshell.py:3063: DtypeWarning: Columns (11,12) have mixed types.Specify dtype option on import or set low_memory=False.\n",
      "  interactivity=interactivity, compiler=compiler, result=result)\n"
     ]
    }
   ],
   "source": [
    "# loading the csv files\n",
    "\n",
    "# train\n",
    "train = pd.read_csv('/kaggle/input/donorschoose-application-screening/train.zip')\n",
    "print('Train data shape: ', train.shape)\n",
    "\n",
    "# test\n",
    "test = pd.read_csv('/kaggle/input/donorschoose-application-screening/test.zip')\n",
    "print('Test data shape: ', test.shape)\n",
    "\n",
    "# sample submission\n",
    "sample = pd.read_csv('/kaggle/input/donorschoose-application-screening/sample_submission.zip')\n",
    "print('Sample data shape: ', sample.shape)"
   ]
  },
  {
   "cell_type": "code",
   "execution_count": 3,
   "metadata": {},
   "outputs": [
    {
     "data": {
      "text/html": [
       "<div>\n",
       "<style scoped>\n",
       "    .dataframe tbody tr th:only-of-type {\n",
       "        vertical-align: middle;\n",
       "    }\n",
       "\n",
       "    .dataframe tbody tr th {\n",
       "        vertical-align: top;\n",
       "    }\n",
       "\n",
       "    .dataframe thead th {\n",
       "        text-align: right;\n",
       "    }\n",
       "</style>\n",
       "<table border=\"1\" class=\"dataframe\">\n",
       "  <thead>\n",
       "    <tr style=\"text-align: right;\">\n",
       "      <th></th>\n",
       "      <th>id</th>\n",
       "      <th>teacher_id</th>\n",
       "      <th>teacher_prefix</th>\n",
       "      <th>school_state</th>\n",
       "      <th>project_submitted_datetime</th>\n",
       "      <th>project_grade_category</th>\n",
       "      <th>project_subject_categories</th>\n",
       "      <th>project_subject_subcategories</th>\n",
       "      <th>project_title</th>\n",
       "      <th>project_essay_1</th>\n",
       "      <th>project_essay_2</th>\n",
       "      <th>project_essay_3</th>\n",
       "      <th>project_essay_4</th>\n",
       "      <th>project_resource_summary</th>\n",
       "      <th>teacher_number_of_previously_posted_projects</th>\n",
       "      <th>project_is_approved</th>\n",
       "    </tr>\n",
       "  </thead>\n",
       "  <tbody>\n",
       "    <tr>\n",
       "      <th>0</th>\n",
       "      <td>p036502</td>\n",
       "      <td>484aaf11257089a66cfedc9461c6bd0a</td>\n",
       "      <td>Ms.</td>\n",
       "      <td>NV</td>\n",
       "      <td>2016-11-18 14:45:59</td>\n",
       "      <td>Grades PreK-2</td>\n",
       "      <td>Literacy &amp; Language</td>\n",
       "      <td>Literacy</td>\n",
       "      <td>Super Sight Word Centers</td>\n",
       "      <td>Most of my kindergarten students come from low...</td>\n",
       "      <td>I currently have a differentiated sight word c...</td>\n",
       "      <td>NaN</td>\n",
       "      <td>NaN</td>\n",
       "      <td>My students need 6 Ipod Nano's to create and d...</td>\n",
       "      <td>26</td>\n",
       "      <td>1</td>\n",
       "    </tr>\n",
       "    <tr>\n",
       "      <th>1</th>\n",
       "      <td>p039565</td>\n",
       "      <td>df72a3ba8089423fa8a94be88060f6ed</td>\n",
       "      <td>Mrs.</td>\n",
       "      <td>GA</td>\n",
       "      <td>2017-04-26 15:57:28</td>\n",
       "      <td>Grades 3-5</td>\n",
       "      <td>Music &amp; The Arts, Health &amp; Sports</td>\n",
       "      <td>Performing Arts, Team Sports</td>\n",
       "      <td>Keep Calm and Dance On</td>\n",
       "      <td>Our elementary school is a culturally rich sch...</td>\n",
       "      <td>We strive to provide our diverse population of...</td>\n",
       "      <td>NaN</td>\n",
       "      <td>NaN</td>\n",
       "      <td>My students need matching shirts to wear for d...</td>\n",
       "      <td>1</td>\n",
       "      <td>0</td>\n",
       "    </tr>\n",
       "    <tr>\n",
       "      <th>2</th>\n",
       "      <td>p233823</td>\n",
       "      <td>a9b876a9252e08a55e3d894150f75ba3</td>\n",
       "      <td>Ms.</td>\n",
       "      <td>UT</td>\n",
       "      <td>2017-01-01 22:57:44</td>\n",
       "      <td>Grades 3-5</td>\n",
       "      <td>Math &amp; Science, Literacy &amp; Language</td>\n",
       "      <td>Applied Sciences, Literature &amp; Writing</td>\n",
       "      <td>Lets 3Doodle to Learn</td>\n",
       "      <td>Hello;\\r\\nMy name is Mrs. Brotherton. I teach ...</td>\n",
       "      <td>We are looking to add some 3Doodler to our cla...</td>\n",
       "      <td>NaN</td>\n",
       "      <td>NaN</td>\n",
       "      <td>My students need the 3doodler. We are an SEM s...</td>\n",
       "      <td>5</td>\n",
       "      <td>1</td>\n",
       "    </tr>\n",
       "    <tr>\n",
       "      <th>3</th>\n",
       "      <td>p185307</td>\n",
       "      <td>525fdbb6ec7f538a48beebaa0a51b24f</td>\n",
       "      <td>Mr.</td>\n",
       "      <td>NC</td>\n",
       "      <td>2016-08-12 15:42:11</td>\n",
       "      <td>Grades 3-5</td>\n",
       "      <td>Health &amp; Sports</td>\n",
       "      <td>Health &amp; Wellness</td>\n",
       "      <td>\\\"Kid Inspired\\\" Equipment to Increase Activit...</td>\n",
       "      <td>My students are the greatest students but are ...</td>\n",
       "      <td>The student's project which is totally \\\"kid-i...</td>\n",
       "      <td>NaN</td>\n",
       "      <td>NaN</td>\n",
       "      <td>My students need balls and other activity equi...</td>\n",
       "      <td>16</td>\n",
       "      <td>0</td>\n",
       "    </tr>\n",
       "    <tr>\n",
       "      <th>4</th>\n",
       "      <td>p013780</td>\n",
       "      <td>a63b5547a7239eae4c1872670848e61a</td>\n",
       "      <td>Mr.</td>\n",
       "      <td>CA</td>\n",
       "      <td>2016-08-06 09:09:11</td>\n",
       "      <td>Grades 6-8</td>\n",
       "      <td>Health &amp; Sports</td>\n",
       "      <td>Health &amp; Wellness</td>\n",
       "      <td>We need clean water for our culinary arts class!</td>\n",
       "      <td>My students are athletes and students who are ...</td>\n",
       "      <td>For some reason in our kitchen the water comes...</td>\n",
       "      <td>NaN</td>\n",
       "      <td>NaN</td>\n",
       "      <td>My students need a water filtration system for...</td>\n",
       "      <td>42</td>\n",
       "      <td>1</td>\n",
       "    </tr>\n",
       "  </tbody>\n",
       "</table>\n",
       "</div>"
      ],
      "text/plain": [
       "        id                        teacher_id teacher_prefix school_state  \\\n",
       "0  p036502  484aaf11257089a66cfedc9461c6bd0a            Ms.           NV   \n",
       "1  p039565  df72a3ba8089423fa8a94be88060f6ed           Mrs.           GA   \n",
       "2  p233823  a9b876a9252e08a55e3d894150f75ba3            Ms.           UT   \n",
       "3  p185307  525fdbb6ec7f538a48beebaa0a51b24f            Mr.           NC   \n",
       "4  p013780  a63b5547a7239eae4c1872670848e61a            Mr.           CA   \n",
       "\n",
       "  project_submitted_datetime project_grade_category  \\\n",
       "0        2016-11-18 14:45:59          Grades PreK-2   \n",
       "1        2017-04-26 15:57:28             Grades 3-5   \n",
       "2        2017-01-01 22:57:44             Grades 3-5   \n",
       "3        2016-08-12 15:42:11             Grades 3-5   \n",
       "4        2016-08-06 09:09:11             Grades 6-8   \n",
       "\n",
       "            project_subject_categories  \\\n",
       "0                  Literacy & Language   \n",
       "1    Music & The Arts, Health & Sports   \n",
       "2  Math & Science, Literacy & Language   \n",
       "3                      Health & Sports   \n",
       "4                      Health & Sports   \n",
       "\n",
       "            project_subject_subcategories  \\\n",
       "0                                Literacy   \n",
       "1            Performing Arts, Team Sports   \n",
       "2  Applied Sciences, Literature & Writing   \n",
       "3                       Health & Wellness   \n",
       "4                       Health & Wellness   \n",
       "\n",
       "                                       project_title  \\\n",
       "0                           Super Sight Word Centers   \n",
       "1                             Keep Calm and Dance On   \n",
       "2                              Lets 3Doodle to Learn   \n",
       "3  \\\"Kid Inspired\\\" Equipment to Increase Activit...   \n",
       "4   We need clean water for our culinary arts class!   \n",
       "\n",
       "                                     project_essay_1  \\\n",
       "0  Most of my kindergarten students come from low...   \n",
       "1  Our elementary school is a culturally rich sch...   \n",
       "2  Hello;\\r\\nMy name is Mrs. Brotherton. I teach ...   \n",
       "3  My students are the greatest students but are ...   \n",
       "4  My students are athletes and students who are ...   \n",
       "\n",
       "                                     project_essay_2 project_essay_3  \\\n",
       "0  I currently have a differentiated sight word c...             NaN   \n",
       "1  We strive to provide our diverse population of...             NaN   \n",
       "2  We are looking to add some 3Doodler to our cla...             NaN   \n",
       "3  The student's project which is totally \\\"kid-i...             NaN   \n",
       "4  For some reason in our kitchen the water comes...             NaN   \n",
       "\n",
       "  project_essay_4                           project_resource_summary  \\\n",
       "0             NaN  My students need 6 Ipod Nano's to create and d...   \n",
       "1             NaN  My students need matching shirts to wear for d...   \n",
       "2             NaN  My students need the 3doodler. We are an SEM s...   \n",
       "3             NaN  My students need balls and other activity equi...   \n",
       "4             NaN  My students need a water filtration system for...   \n",
       "\n",
       "   teacher_number_of_previously_posted_projects  project_is_approved  \n",
       "0                                            26                    1  \n",
       "1                                             1                    0  \n",
       "2                                             5                    1  \n",
       "3                                            16                    0  \n",
       "4                                            42                    1  "
      ]
     },
     "execution_count": 3,
     "metadata": {},
     "output_type": "execute_result"
    }
   ],
   "source": [
    "train.head()"
   ]
  },
  {
   "cell_type": "code",
   "execution_count": 4,
   "metadata": {},
   "outputs": [],
   "source": [
    "# replacing the NaN values in train data as 'unknown'\n",
    "train.fillna(\"unknown\", inplace=True)"
   ]
  },
  {
   "cell_type": "code",
   "execution_count": 5,
   "metadata": {},
   "outputs": [
    {
     "data": {
      "text/html": [
       "<div>\n",
       "<style scoped>\n",
       "    .dataframe tbody tr th:only-of-type {\n",
       "        vertical-align: middle;\n",
       "    }\n",
       "\n",
       "    .dataframe tbody tr th {\n",
       "        vertical-align: top;\n",
       "    }\n",
       "\n",
       "    .dataframe thead th {\n",
       "        text-align: right;\n",
       "    }\n",
       "</style>\n",
       "<table border=\"1\" class=\"dataframe\">\n",
       "  <thead>\n",
       "    <tr style=\"text-align: right;\">\n",
       "      <th></th>\n",
       "      <th>id</th>\n",
       "      <th>teacher_id</th>\n",
       "      <th>teacher_prefix</th>\n",
       "      <th>school_state</th>\n",
       "      <th>project_submitted_datetime</th>\n",
       "      <th>project_grade_category</th>\n",
       "      <th>project_subject_categories</th>\n",
       "      <th>project_subject_subcategories</th>\n",
       "      <th>project_title</th>\n",
       "      <th>project_essay_1</th>\n",
       "      <th>project_essay_2</th>\n",
       "      <th>project_essay_3</th>\n",
       "      <th>project_essay_4</th>\n",
       "      <th>project_resource_summary</th>\n",
       "      <th>teacher_number_of_previously_posted_projects</th>\n",
       "    </tr>\n",
       "  </thead>\n",
       "  <tbody>\n",
       "    <tr>\n",
       "      <th>0</th>\n",
       "      <td>p233245</td>\n",
       "      <td>5724a0c3ce11008366fff36dab4b943c</td>\n",
       "      <td>Ms.</td>\n",
       "      <td>CA</td>\n",
       "      <td>2016-04-27 13:45:41</td>\n",
       "      <td>Grades PreK-2</td>\n",
       "      <td>Music &amp; The Arts</td>\n",
       "      <td>Visual Arts</td>\n",
       "      <td>Art Will Make You Happy!</td>\n",
       "      <td>My 2nd grade students are amazing!  They are v...</td>\n",
       "      <td>My class is made up of 12 boys and 12 girls.  ...</td>\n",
       "      <td>My second grade class will really benefit from...</td>\n",
       "      <td>The genorous donations to my project will make...</td>\n",
       "      <td>My students need a drying rack for their art p...</td>\n",
       "      <td>2</td>\n",
       "    </tr>\n",
       "    <tr>\n",
       "      <th>1</th>\n",
       "      <td>p096795</td>\n",
       "      <td>445619941dc7cbe81c7be109dc61a56a</td>\n",
       "      <td>Mrs.</td>\n",
       "      <td>SC</td>\n",
       "      <td>2016-04-28 12:43:56</td>\n",
       "      <td>Grades 3-5</td>\n",
       "      <td>Literacy &amp; Language, Math &amp; Science</td>\n",
       "      <td>Literature &amp; Writing, Mathematics</td>\n",
       "      <td>Keeping up with the TIMEs</td>\n",
       "      <td>Students within the classroom work in small gr...</td>\n",
       "      <td>My students are all very talented young indivi...</td>\n",
       "      <td>We do a lot of small group, where the student ...</td>\n",
       "      <td>This project is very important to my classroom...</td>\n",
       "      <td>My students need Time Magazines for next year ...</td>\n",
       "      <td>1</td>\n",
       "    </tr>\n",
       "    <tr>\n",
       "      <th>2</th>\n",
       "      <td>p236235</td>\n",
       "      <td>e92a4902b1611a189643d6f12c51e6a0</td>\n",
       "      <td>Mrs.</td>\n",
       "      <td>SC</td>\n",
       "      <td>2016-04-29 21:16:05</td>\n",
       "      <td>Grades PreK-2</td>\n",
       "      <td>Math &amp; Science</td>\n",
       "      <td>Applied Sciences, Mathematics</td>\n",
       "      <td>Building Bridges to Problem Solving</td>\n",
       "      <td>My students share  a love of learning. These s...</td>\n",
       "      <td>My class consists of 14 energetic learners.  O...</td>\n",
       "      <td>These Fairy Tale Problem Solving STEM kits wil...</td>\n",
       "      <td>These materials will be help my students with ...</td>\n",
       "      <td>My students need to be mentally stimulated to ...</td>\n",
       "      <td>0</td>\n",
       "    </tr>\n",
       "    <tr>\n",
       "      <th>3</th>\n",
       "      <td>p233680</td>\n",
       "      <td>8e92622d2985d3faac1de71609c4be72</td>\n",
       "      <td>Mrs.</td>\n",
       "      <td>IA</td>\n",
       "      <td>2016-04-27 22:32:43</td>\n",
       "      <td>Grades PreK-2</td>\n",
       "      <td>Literacy &amp; Language</td>\n",
       "      <td>Literacy</td>\n",
       "      <td>Classroom Library</td>\n",
       "      <td>Reading is the gateway to the soul.  Guiding c...</td>\n",
       "      <td>First graders enter the classroom each day rea...</td>\n",
       "      <td>Book bins will help to organize our classroom ...</td>\n",
       "      <td>When students begin the first grade, many are ...</td>\n",
       "      <td>My students need an organized classroom library.</td>\n",
       "      <td>0</td>\n",
       "    </tr>\n",
       "    <tr>\n",
       "      <th>4</th>\n",
       "      <td>p171879</td>\n",
       "      <td>91a3c89981f626d9a0d067c65fb186ce</td>\n",
       "      <td>Mr.</td>\n",
       "      <td>CA</td>\n",
       "      <td>2016-04-27 18:59:15</td>\n",
       "      <td>Grades 6-8</td>\n",
       "      <td>Music &amp; The Arts, Special Needs</td>\n",
       "      <td>Performing Arts, Special Needs</td>\n",
       "      <td>Reeds so we can Read</td>\n",
       "      <td>\\\"Mr. Reyes!  I need another reed!\\\"  I hear t...</td>\n",
       "      <td>We have a diverse population with almost entir...</td>\n",
       "      <td>Each day in my class students consume supplies...</td>\n",
       "      <td>My students come from very troubled homes and ...</td>\n",
       "      <td>My students need reeds to perform in class eac...</td>\n",
       "      <td>1</td>\n",
       "    </tr>\n",
       "  </tbody>\n",
       "</table>\n",
       "</div>"
      ],
      "text/plain": [
       "        id                        teacher_id teacher_prefix school_state  \\\n",
       "0  p233245  5724a0c3ce11008366fff36dab4b943c            Ms.           CA   \n",
       "1  p096795  445619941dc7cbe81c7be109dc61a56a           Mrs.           SC   \n",
       "2  p236235  e92a4902b1611a189643d6f12c51e6a0           Mrs.           SC   \n",
       "3  p233680  8e92622d2985d3faac1de71609c4be72           Mrs.           IA   \n",
       "4  p171879  91a3c89981f626d9a0d067c65fb186ce            Mr.           CA   \n",
       "\n",
       "  project_submitted_datetime project_grade_category  \\\n",
       "0        2016-04-27 13:45:41          Grades PreK-2   \n",
       "1        2016-04-28 12:43:56             Grades 3-5   \n",
       "2        2016-04-29 21:16:05          Grades PreK-2   \n",
       "3        2016-04-27 22:32:43          Grades PreK-2   \n",
       "4        2016-04-27 18:59:15             Grades 6-8   \n",
       "\n",
       "            project_subject_categories      project_subject_subcategories  \\\n",
       "0                     Music & The Arts                        Visual Arts   \n",
       "1  Literacy & Language, Math & Science  Literature & Writing, Mathematics   \n",
       "2                       Math & Science      Applied Sciences, Mathematics   \n",
       "3                  Literacy & Language                           Literacy   \n",
       "4      Music & The Arts, Special Needs     Performing Arts, Special Needs   \n",
       "\n",
       "                         project_title  \\\n",
       "0             Art Will Make You Happy!   \n",
       "1            Keeping up with the TIMEs   \n",
       "2  Building Bridges to Problem Solving   \n",
       "3                    Classroom Library   \n",
       "4                 Reeds so we can Read   \n",
       "\n",
       "                                     project_essay_1  \\\n",
       "0  My 2nd grade students are amazing!  They are v...   \n",
       "1  Students within the classroom work in small gr...   \n",
       "2  My students share  a love of learning. These s...   \n",
       "3  Reading is the gateway to the soul.  Guiding c...   \n",
       "4  \\\"Mr. Reyes!  I need another reed!\\\"  I hear t...   \n",
       "\n",
       "                                     project_essay_2  \\\n",
       "0  My class is made up of 12 boys and 12 girls.  ...   \n",
       "1  My students are all very talented young indivi...   \n",
       "2  My class consists of 14 energetic learners.  O...   \n",
       "3  First graders enter the classroom each day rea...   \n",
       "4  We have a diverse population with almost entir...   \n",
       "\n",
       "                                     project_essay_3  \\\n",
       "0  My second grade class will really benefit from...   \n",
       "1  We do a lot of small group, where the student ...   \n",
       "2  These Fairy Tale Problem Solving STEM kits wil...   \n",
       "3  Book bins will help to organize our classroom ...   \n",
       "4  Each day in my class students consume supplies...   \n",
       "\n",
       "                                     project_essay_4  \\\n",
       "0  The genorous donations to my project will make...   \n",
       "1  This project is very important to my classroom...   \n",
       "2  These materials will be help my students with ...   \n",
       "3  When students begin the first grade, many are ...   \n",
       "4  My students come from very troubled homes and ...   \n",
       "\n",
       "                            project_resource_summary  \\\n",
       "0  My students need a drying rack for their art p...   \n",
       "1  My students need Time Magazines for next year ...   \n",
       "2  My students need to be mentally stimulated to ...   \n",
       "3   My students need an organized classroom library.   \n",
       "4  My students need reeds to perform in class eac...   \n",
       "\n",
       "   teacher_number_of_previously_posted_projects  \n",
       "0                                             2  \n",
       "1                                             1  \n",
       "2                                             0  \n",
       "3                                             0  \n",
       "4                                             1  "
      ]
     },
     "execution_count": 5,
     "metadata": {},
     "output_type": "execute_result"
    }
   ],
   "source": [
    "test.head()"
   ]
  },
  {
   "cell_type": "code",
   "execution_count": 6,
   "metadata": {},
   "outputs": [],
   "source": [
    "# replacing the NaN values in test data as 'unknown'\n",
    "test.fillna('unknown', inplace=True)"
   ]
  },
  {
   "cell_type": "code",
   "execution_count": null,
   "metadata": {},
   "outputs": [],
   "source": []
  },
  {
   "cell_type": "markdown",
   "metadata": {},
   "source": [
    "# 1. Basic Text Preprocessing"
   ]
  },
  {
   "cell_type": "code",
   "execution_count": 7,
   "metadata": {},
   "outputs": [],
   "source": [
    "# https://stackoverflow.com/a/47091490/4084039\n",
    "\n",
    "def decontracted(phrase):\n",
    "    # specific\n",
    "    phrase = re.sub(r\"won't\", \"will not\", phrase)\n",
    "    phrase = re.sub(r\"can\\'t\", \"can not\", phrase)\n",
    "\n",
    "    # general\n",
    "    phrase = re.sub(r\"n\\'t\", \" not\", phrase)\n",
    "    phrase = re.sub(r\"\\'re\", \" are\", phrase)\n",
    "    phrase = re.sub(r\"\\'s\", \" is\", phrase)\n",
    "    phrase = re.sub(r\"\\'d\", \" would\", phrase)\n",
    "    phrase = re.sub(r\"\\'ll\", \" will\", phrase)\n",
    "    phrase = re.sub(r\"\\'t\", \" not\", phrase)\n",
    "    phrase = re.sub(r\"\\'ve\", \" have\", phrase)\n",
    "    phrase = re.sub(r\"\\'m\", \" am\", phrase)\n",
    "    return phrase"
   ]
  },
  {
   "cell_type": "code",
   "execution_count": 8,
   "metadata": {},
   "outputs": [],
   "source": [
    "# https://gist.github.com/sebleier/554280\n",
    "# we are removing the words from the stop words list: 'no', 'nor', 'not'\n",
    "stopwords= ['i', 'me', 'my', 'myself', 'we', 'our', 'ours', 'ourselves', 'you', \"you're\", \"you've\",\\\n",
    "            \"you'll\", \"you'd\", 'your', 'yours', 'yourself', 'yourselves', 'he', 'him', 'his', 'himself', \\\n",
    "            'she', \"she's\", 'her', 'hers', 'herself', 'it', \"it's\", 'its', 'itself', 'they', 'them', 'their',\\\n",
    "            'theirs', 'themselves', 'what', 'which', 'who', 'whom', 'this', 'that', \"that'll\", 'these', 'those', \\\n",
    "            'am', 'is', 'are', 'was', 'were', 'be', 'been', 'being', 'have', 'has', 'had', 'having', 'do', 'does', \\\n",
    "            'did', 'doing', 'a', 'an', 'the', 'and', 'but', 'if', 'or', 'because', 'as', 'until', 'while', 'of', \\\n",
    "            'at', 'by', 'for', 'with', 'about', 'against', 'between', 'into', 'through', 'during', 'before', 'after',\\\n",
    "            'above', 'below', 'to', 'from', 'up', 'down', 'in', 'out', 'on', 'off', 'over', 'under', 'again', 'further',\\\n",
    "            'then', 'once', 'here', 'there', 'when', 'where', 'why', 'how', 'all', 'any', 'both', 'each', 'few', 'more',\\\n",
    "            'most', 'other', 'some', 'such', 'only', 'own', 'same', 'so', 'than', 'too', 'very', \\\n",
    "            's', 't', 'can', 'will', 'just', 'don', \"don't\", 'should', \"should've\", 'now', 'd', 'll', 'm', 'o', 're', \\\n",
    "            've', 'y', 'ain', 'aren', \"aren't\", 'couldn', \"couldn't\", 'didn', \"didn't\", 'doesn', \"doesn't\", 'hadn',\\\n",
    "            \"hadn't\", 'hasn', \"hasn't\", 'haven', \"haven't\", 'isn', \"isn't\", 'ma', 'mightn', \"mightn't\", 'mustn',\\\n",
    "            \"mustn't\", 'needn', \"needn't\", 'shan', \"shan't\", 'shouldn', \"shouldn't\", 'wasn', \"wasn't\", 'weren', \"weren't\", \\\n",
    "            'won', \"won't\", 'wouldn', \"wouldn't\"]"
   ]
  },
  {
   "cell_type": "code",
   "execution_count": null,
   "metadata": {},
   "outputs": [],
   "source": []
  },
  {
   "cell_type": "markdown",
   "metadata": {},
   "source": [
    "## project_essay"
   ]
  },
  {
   "cell_type": "code",
   "execution_count": 9,
   "metadata": {},
   "outputs": [],
   "source": [
    "# Combining project_essay_1, project_essay_2. project_essay_3, project_essay_4 into one column project_essay\n",
    "\n",
    "# train\n",
    "train['project_essay'] = train['project_essay_1'] + ' ' + train['project_essay_2'] + ' ' + train['project_essay_3'] + ' ' + train['project_essay_4']\n",
    "\n",
    "\n",
    "# test\n",
    "test['project_essay'] = test['project_essay_1'] + ' ' + test['project_essay_2'] + ' ' + test['project_essay_3'] + ' ' + test['project_essay_4']"
   ]
  },
  {
   "cell_type": "code",
   "execution_count": 10,
   "metadata": {},
   "outputs": [
    {
     "name": "stderr",
     "output_type": "stream",
     "text": [
      "100%|██████████| 182080/182080 [02:24<00:00, 1260.32it/s]\n"
     ]
    }
   ],
   "source": [
    "# preprocessing\n",
    "\n",
    "# train\n",
    "preprocessed_project_essay = []\n",
    "for sentance in tqdm(train['project_essay'].values):\n",
    "    sent = decontracted(sentance)\n",
    "    sent = sent.replace('\\\\\"', ' ')\n",
    "    sent = sent.replace('\\\\n', ' ')\n",
    "    sent = re.sub('[^A-Za-z0-9]+', ' ', sent)\n",
    "    # https://gist.github.com/sebleier/554280\n",
    "    sent = ' '.join(e for e in sent.split() if e.lower() not in stopwords)\n",
    "    preprocessed_project_essay.append(sent.lower().strip())\n",
    "    \n",
    "    \n",
    "train['project_essay'] = preprocessed_project_essay"
   ]
  },
  {
   "cell_type": "code",
   "execution_count": 11,
   "metadata": {},
   "outputs": [
    {
     "name": "stderr",
     "output_type": "stream",
     "text": [
      "100%|██████████| 78035/78035 [01:02<00:00, 1256.40it/s]\n"
     ]
    }
   ],
   "source": [
    "# preprocessing\n",
    "\n",
    "# test\n",
    "preprocessed_project_essay = []\n",
    "for sentance in tqdm(test['project_essay'].values):\n",
    "    sent = decontracted(sentance)\n",
    "    sent = sent.replace('\\\\\"', ' ')\n",
    "    sent = sent.replace('\\\\n', ' ')\n",
    "    sent = re.sub('[^A-Za-z0-9]+', ' ', sent)\n",
    "    # https://gist.github.com/sebleier/554280\n",
    "    sent = ' '.join(e for e in sent.split() if e.lower() not in stopwords)\n",
    "    preprocessed_project_essay.append(sent.lower().strip())\n",
    "    \n",
    "    \n",
    "test['project_essay'] = preprocessed_project_essay"
   ]
  },
  {
   "cell_type": "code",
   "execution_count": null,
   "metadata": {},
   "outputs": [],
   "source": []
  },
  {
   "cell_type": "markdown",
   "metadata": {},
   "source": [
    "## project_title"
   ]
  },
  {
   "cell_type": "code",
   "execution_count": 12,
   "metadata": {},
   "outputs": [
    {
     "name": "stderr",
     "output_type": "stream",
     "text": [
      "100%|██████████| 182080/182080 [00:06<00:00, 27373.08it/s]\n"
     ]
    }
   ],
   "source": [
    "# preprocessing\n",
    "\n",
    "# train\n",
    "preprocessed_project_title = []\n",
    "for sentance in tqdm(train['project_title'].values):\n",
    "    sent = decontracted(sentance)\n",
    "    sent = sent.replace('\\\\\"', ' ')\n",
    "    sent = sent.replace('\\\\n', ' ')\n",
    "    sent = re.sub('[^A-Za-z0-9]+', ' ', sent)\n",
    "    # https://gist.github.com/sebleier/554280\n",
    "    sent = ' '.join(e for e in sent.split() if e.lower() not in stopwords)\n",
    "    preprocessed_project_title.append(sent.lower().strip())\n",
    "    \n",
    "    \n",
    "train['project_title'] = preprocessed_project_title"
   ]
  },
  {
   "cell_type": "code",
   "execution_count": 13,
   "metadata": {},
   "outputs": [
    {
     "name": "stderr",
     "output_type": "stream",
     "text": [
      "100%|██████████| 78035/78035 [00:02<00:00, 26042.01it/s]\n"
     ]
    }
   ],
   "source": [
    "# preprocessing\n",
    "\n",
    "# test\n",
    "preprocessed_project_title = []\n",
    "for sentance in tqdm(test['project_title'].values):\n",
    "    sent = decontracted(sentance)\n",
    "    sent = sent.replace('\\\\\"', ' ')\n",
    "    sent = sent.replace('\\\\n', ' ')\n",
    "    sent = re.sub('[^A-Za-z0-9]+', ' ', sent)\n",
    "    # https://gist.github.com/sebleier/554280\n",
    "    sent = ' '.join(e for e in sent.split() if e.lower() not in stopwords)\n",
    "    preprocessed_project_title.append(sent.lower().strip())\n",
    "    \n",
    "    \n",
    "test['project_title'] = preprocessed_project_title"
   ]
  },
  {
   "cell_type": "code",
   "execution_count": null,
   "metadata": {},
   "outputs": [],
   "source": []
  },
  {
   "cell_type": "markdown",
   "metadata": {},
   "source": [
    "## project_resource_summary"
   ]
  },
  {
   "cell_type": "code",
   "execution_count": 14,
   "metadata": {},
   "outputs": [
    {
     "name": "stderr",
     "output_type": "stream",
     "text": [
      "100%|██████████| 182080/182080 [00:14<00:00, 12510.94it/s]\n"
     ]
    }
   ],
   "source": [
    "# preprocessing\n",
    "\n",
    "# train\n",
    "preprocessed_resource_summary = []\n",
    "for sentance in tqdm(train['project_resource_summary'].values):\n",
    "    sent = decontracted(sentance)\n",
    "    sent = sent.replace('\\\\\"', ' ')\n",
    "    sent = sent.replace('\\\\n', ' ')\n",
    "    sent = re.sub('[^A-Za-z0-9]+', ' ', sent)\n",
    "    # https://gist.github.com/sebleier/554280\n",
    "    sent = ' '.join(e for e in sent.split() if e.lower() not in stopwords)\n",
    "    preprocessed_resource_summary.append(sent.lower().strip())\n",
    "    \n",
    "    \n",
    "train['project_resource_summary'] = preprocessed_resource_summary"
   ]
  },
  {
   "cell_type": "code",
   "execution_count": 15,
   "metadata": {},
   "outputs": [
    {
     "name": "stderr",
     "output_type": "stream",
     "text": [
      "100%|██████████| 78035/78035 [00:06<00:00, 12019.64it/s]\n"
     ]
    }
   ],
   "source": [
    "# preprocessing\n",
    "\n",
    "# test\n",
    "preprocessed_resource_summary = []\n",
    "for sentance in tqdm(test['project_resource_summary'].values):\n",
    "    sent = decontracted(sentance)\n",
    "    sent = sent.replace('\\\\\"', ' ')\n",
    "    sent = sent.replace('\\\\n', ' ')\n",
    "    sent = re.sub('[^A-Za-z0-9]+', ' ', sent)\n",
    "    # https://gist.github.com/sebleier/554280\n",
    "    sent = ' '.join(e for e in sent.split() if e.lower() not in stopwords)\n",
    "    preprocessed_resource_summary.append(sent.lower().strip())\n",
    "    \n",
    "    \n",
    "test['project_resource_summary'] = preprocessed_resource_summary\n"
   ]
  },
  {
   "cell_type": "code",
   "execution_count": null,
   "metadata": {},
   "outputs": [],
   "source": []
  },
  {
   "cell_type": "markdown",
   "metadata": {},
   "source": [
    "# Train Validation Split"
   ]
  },
  {
   "cell_type": "code",
   "execution_count": 16,
   "metadata": {},
   "outputs": [],
   "source": [
    "# project_is_approved is the target variable. \n",
    "y = train['project_is_approved']\n",
    "train.drop(['project_is_approved'], axis=1, inplace=True)"
   ]
  },
  {
   "cell_type": "code",
   "execution_count": 17,
   "metadata": {},
   "outputs": [
    {
     "name": "stdout",
     "output_type": "stream",
     "text": [
      "(182080, 9)\n",
      "(78035, 9)\n"
     ]
    }
   ],
   "source": [
    "# Dropping Some Unneccsary columns\n",
    "\n",
    "train.drop(['id', 'teacher_id', 'project_submitted_datetime', 'project_essay_1', 'project_essay_2', \\\n",
    "            'project_essay_3', 'project_essay_4'], inplace=True, axis=1)\n",
    "\n",
    "test.drop(['id', 'teacher_id', 'project_submitted_datetime', 'project_essay_1', 'project_essay_2', \\\n",
    "           'project_essay_3', 'project_essay_4'], inplace=True, axis=1)\n",
    "\n",
    "print(train.shape)\n",
    "print(test.shape)"
   ]
  },
  {
   "cell_type": "code",
   "execution_count": 18,
   "metadata": {},
   "outputs": [],
   "source": [
    "# splitting data into train and vaildation\n",
    "X_train, X_val, y_train, y_val = train_test_split(train, y, test_size=0.2, stratify=y)"
   ]
  },
  {
   "cell_type": "code",
   "execution_count": 19,
   "metadata": {},
   "outputs": [
    {
     "name": "stdout",
     "output_type": "stream",
     "text": [
      "(145664, 9) (145664,)\n",
      "(36416, 9) (36416,)\n",
      "(78035, 9)\n"
     ]
    }
   ],
   "source": [
    "print(X_train.shape, y_train.shape)\n",
    "print(X_val.shape, y_val.shape)\n",
    "print(test.shape)"
   ]
  },
  {
   "cell_type": "code",
   "execution_count": null,
   "metadata": {},
   "outputs": [],
   "source": []
  },
  {
   "cell_type": "markdown",
   "metadata": {},
   "source": [
    "# Enocding Categorical Data"
   ]
  },
  {
   "cell_type": "code",
   "execution_count": 20,
   "metadata": {},
   "outputs": [
    {
     "data": {
      "text/html": [
       "<div>\n",
       "<style scoped>\n",
       "    .dataframe tbody tr th:only-of-type {\n",
       "        vertical-align: middle;\n",
       "    }\n",
       "\n",
       "    .dataframe tbody tr th {\n",
       "        vertical-align: top;\n",
       "    }\n",
       "\n",
       "    .dataframe thead th {\n",
       "        text-align: right;\n",
       "    }\n",
       "</style>\n",
       "<table border=\"1\" class=\"dataframe\">\n",
       "  <thead>\n",
       "    <tr style=\"text-align: right;\">\n",
       "      <th></th>\n",
       "      <th>teacher_prefix</th>\n",
       "      <th>school_state</th>\n",
       "      <th>project_grade_category</th>\n",
       "      <th>project_subject_categories</th>\n",
       "      <th>project_subject_subcategories</th>\n",
       "      <th>project_title</th>\n",
       "      <th>project_resource_summary</th>\n",
       "      <th>teacher_number_of_previously_posted_projects</th>\n",
       "      <th>project_essay</th>\n",
       "    </tr>\n",
       "  </thead>\n",
       "  <tbody>\n",
       "    <tr>\n",
       "      <th>149644</th>\n",
       "      <td>Mrs.</td>\n",
       "      <td>MO</td>\n",
       "      <td>Grades PreK-2</td>\n",
       "      <td>Literacy &amp; Language, Math &amp; Science</td>\n",
       "      <td>Literacy, Mathematics</td>\n",
       "      <td>mrs martin class needs comfort r ouch bottoms ...</td>\n",
       "      <td>students need rug comfortable floor seating op...</td>\n",
       "      <td>0</td>\n",
       "      <td>believe students shining stars smaller high po...</td>\n",
       "    </tr>\n",
       "    <tr>\n",
       "      <th>70279</th>\n",
       "      <td>Mrs.</td>\n",
       "      <td>AZ</td>\n",
       "      <td>Grades 3-5</td>\n",
       "      <td>Literacy &amp; Language, Math &amp; Science</td>\n",
       "      <td>Literature &amp; Writing, Mathematics</td>\n",
       "      <td>zooming math time</td>\n",
       "      <td>students need timers stopwatches clocks stamps...</td>\n",
       "      <td>3</td>\n",
       "      <td>teacher low income high poverty neighborhood s...</td>\n",
       "    </tr>\n",
       "    <tr>\n",
       "      <th>76956</th>\n",
       "      <td>Mr.</td>\n",
       "      <td>NY</td>\n",
       "      <td>Grades 6-8</td>\n",
       "      <td>Math &amp; Science</td>\n",
       "      <td>Environmental Science, Health &amp; Life Science</td>\n",
       "      <td>students use data reach state science standards</td>\n",
       "      <td>students need test forms order collect analyze...</td>\n",
       "      <td>0</td>\n",
       "      <td>students mostly residents bushwick brooklyn ag...</td>\n",
       "    </tr>\n",
       "    <tr>\n",
       "      <th>88793</th>\n",
       "      <td>Ms.</td>\n",
       "      <td>NY</td>\n",
       "      <td>Grades PreK-2</td>\n",
       "      <td>Math &amp; Science</td>\n",
       "      <td>Mathematics</td>\n",
       "      <td>count</td>\n",
       "      <td>students need math activities explore independ...</td>\n",
       "      <td>14</td>\n",
       "      <td>wonderful diverse group students six different...</td>\n",
       "    </tr>\n",
       "    <tr>\n",
       "      <th>109808</th>\n",
       "      <td>Mrs.</td>\n",
       "      <td>MO</td>\n",
       "      <td>Grades PreK-2</td>\n",
       "      <td>Literacy &amp; Language, Math &amp; Science</td>\n",
       "      <td>Literature &amp; Writing, Mathematics</td>\n",
       "      <td>choice working comfortable</td>\n",
       "      <td>students need clipboards able work around room</td>\n",
       "      <td>9</td>\n",
       "      <td>building stem science technology engineering m...</td>\n",
       "    </tr>\n",
       "  </tbody>\n",
       "</table>\n",
       "</div>"
      ],
      "text/plain": [
       "       teacher_prefix school_state project_grade_category  \\\n",
       "149644           Mrs.           MO          Grades PreK-2   \n",
       "70279            Mrs.           AZ             Grades 3-5   \n",
       "76956             Mr.           NY             Grades 6-8   \n",
       "88793             Ms.           NY          Grades PreK-2   \n",
       "109808           Mrs.           MO          Grades PreK-2   \n",
       "\n",
       "                 project_subject_categories  \\\n",
       "149644  Literacy & Language, Math & Science   \n",
       "70279   Literacy & Language, Math & Science   \n",
       "76956                        Math & Science   \n",
       "88793                        Math & Science   \n",
       "109808  Literacy & Language, Math & Science   \n",
       "\n",
       "                       project_subject_subcategories  \\\n",
       "149644                         Literacy, Mathematics   \n",
       "70279              Literature & Writing, Mathematics   \n",
       "76956   Environmental Science, Health & Life Science   \n",
       "88793                                    Mathematics   \n",
       "109808             Literature & Writing, Mathematics   \n",
       "\n",
       "                                            project_title  \\\n",
       "149644  mrs martin class needs comfort r ouch bottoms ...   \n",
       "70279                                   zooming math time   \n",
       "76956     students use data reach state science standards   \n",
       "88793                                               count   \n",
       "109808                         choice working comfortable   \n",
       "\n",
       "                                 project_resource_summary  \\\n",
       "149644  students need rug comfortable floor seating op...   \n",
       "70279   students need timers stopwatches clocks stamps...   \n",
       "76956   students need test forms order collect analyze...   \n",
       "88793   students need math activities explore independ...   \n",
       "109808     students need clipboards able work around room   \n",
       "\n",
       "        teacher_number_of_previously_posted_projects  \\\n",
       "149644                                             0   \n",
       "70279                                              3   \n",
       "76956                                              0   \n",
       "88793                                             14   \n",
       "109808                                             9   \n",
       "\n",
       "                                            project_essay  \n",
       "149644  believe students shining stars smaller high po...  \n",
       "70279   teacher low income high poverty neighborhood s...  \n",
       "76956   students mostly residents bushwick brooklyn ag...  \n",
       "88793   wonderful diverse group students six different...  \n",
       "109808  building stem science technology engineering m...  "
      ]
     },
     "execution_count": 20,
     "metadata": {},
     "output_type": "execute_result"
    }
   ],
   "source": [
    "X_train.head()"
   ]
  },
  {
   "cell_type": "code",
   "execution_count": 21,
   "metadata": {},
   "outputs": [
    {
     "name": "stdout",
     "output_type": "stream",
     "text": [
      "(145664, 1)\n",
      "(36416, 1)\n",
      "(78035, 1)\n"
     ]
    },
    {
     "name": "stderr",
     "output_type": "stream",
     "text": [
      "/opt/conda/lib/python3.7/site-packages/sklearn/utils/validation.py:73: DataConversionWarning: A column-vector y was passed when a 1d array was expected. Please change the shape of y to (n_samples, ), for example using ravel().\n",
      "  return f(**kwargs)\n"
     ]
    }
   ],
   "source": [
    "# teacher_prefix \n",
    "\n",
    "encoder = LabelEncoder()\n",
    "\n",
    "teacher_prefix_train = encoder.fit_transform(X_train['teacher_prefix'].values.reshape(-1, 1))\n",
    "teacher_prefix_val = encoder.transform(X_val['teacher_prefix'].values.reshape(-1, 1))\n",
    "teacher_prefix_test = encoder.transform(test['teacher_prefix'].values.reshape(-1, 1))\n",
    "\n",
    "# reshaping\n",
    "teacher_prefix_train = teacher_prefix_train.reshape(-1, 1)\n",
    "teacher_prefix_val = teacher_prefix_val.reshape(-1, 1)\n",
    "teacher_prefix_test = teacher_prefix_test.reshape(-1, 1)\n",
    "\n",
    "print(teacher_prefix_train.shape)\n",
    "print(teacher_prefix_val.shape)\n",
    "print(teacher_prefix_test.shape)"
   ]
  },
  {
   "cell_type": "code",
   "execution_count": 22,
   "metadata": {},
   "outputs": [
    {
     "name": "stdout",
     "output_type": "stream",
     "text": [
      "(145664, 1)\n",
      "(36416, 1)\n",
      "(78035, 1)\n"
     ]
    }
   ],
   "source": [
    "# school_state \n",
    "\n",
    "encoder = LabelEncoder()\n",
    "\n",
    "school_state_train = encoder.fit_transform(X_train['school_state'].values.reshape(-1, 1))\n",
    "school_state_val = encoder.transform(X_val['school_state'].values.reshape(-1, 1))\n",
    "school_state_test = encoder.transform(test['school_state'].values.reshape(-1, 1))\n",
    "\n",
    "# reshaping\n",
    "school_state_train = school_state_train.reshape(-1, 1)\n",
    "school_state_val = school_state_val.reshape(-1, 1)\n",
    "school_state_test = school_state_test.reshape(-1, 1)\n",
    "\n",
    "print(school_state_train.shape)\n",
    "print(school_state_val.shape)\n",
    "print(school_state_test.shape)"
   ]
  },
  {
   "cell_type": "code",
   "execution_count": 23,
   "metadata": {},
   "outputs": [
    {
     "name": "stdout",
     "output_type": "stream",
     "text": [
      "(145664, 1)\n",
      "(36416, 1)\n",
      "(78035, 1)\n"
     ]
    }
   ],
   "source": [
    "# project_grade_category\n",
    "\n",
    "encoder = LabelEncoder()\n",
    "\n",
    "project_grade_category_train = encoder.fit_transform(X_train['project_grade_category'].values.reshape(-1, 1))\n",
    "project_grade_category_val = encoder.transform(X_val['project_grade_category'].values.reshape(-1, 1))\n",
    "project_grade_category_test = encoder.transform(test['project_grade_category'].values.reshape(-1, 1))\n",
    "\n",
    "# reshaping\n",
    "project_grade_category_train = project_grade_category_train.reshape(-1, 1)\n",
    "project_grade_category_val = project_grade_category_val.reshape(-1, 1)\n",
    "project_grade_category_test = project_grade_category_test.reshape(-1, 1)\n",
    "\n",
    "print(project_grade_category_train.shape)\n",
    "print(project_grade_category_val.shape)\n",
    "print(project_grade_category_test.shape)"
   ]
  },
  {
   "cell_type": "code",
   "execution_count": 24,
   "metadata": {},
   "outputs": [
    {
     "name": "stdout",
     "output_type": "stream",
     "text": [
      "(145664, 1)\n",
      "(36416, 1)\n",
      "(78035, 1)\n"
     ]
    }
   ],
   "source": [
    "# project_subject_categories\n",
    "\n",
    "encoder = LabelEncoder()\n",
    "\n",
    "subject_categories_train = encoder.fit_transform(X_train['project_subject_categories'].values.reshape(-1, 1))\n",
    "subject_categories_val = encoder.transform(X_val['project_subject_categories'].values.reshape(-1, 1))\n",
    "subject_categories_test = encoder.transform(test['project_subject_categories'].values.reshape(-1, 1))\n",
    "\n",
    "# reshaping\n",
    "subject_categories_train = subject_categories_train.reshape(-1, 1)\n",
    "subject_categories_val = subject_categories_val.reshape(-1, 1)\n",
    "subject_categories_test = subject_categories_test.reshape(-1, 1)\n",
    "\n",
    "print(subject_categories_train.shape)\n",
    "print(subject_categories_val.shape)\n",
    "print(subject_categories_test.shape)"
   ]
  },
  {
   "cell_type": "code",
   "execution_count": 25,
   "metadata": {},
   "outputs": [
    {
     "name": "stdout",
     "output_type": "stream",
     "text": [
      "(145664, 1)\n",
      "(36416, 1)\n",
      "(78035, 1)\n"
     ]
    }
   ],
   "source": [
    "# project_subject_subcategories\n",
    "\n",
    "encoder = LabelEncoder()\n",
    "\n",
    "subject_subcategories_train = encoder.fit_transform(X_train['project_subject_subcategories'].values.reshape(-1, 1))\n",
    "encoder_dict = dict(zip(encoder.classes_, encoder.transform(encoder.classes_)))\n",
    "\n",
    "subject_subcategories_train = encoder.transform(X_train['project_subject_subcategories'].values.reshape(-1, 1))\n",
    "\n",
    "subject_subcategories_val = X_val['project_subject_subcategories'].apply(lambda x: encoder_dict.get(x, 500))\n",
    "\n",
    "subject_subcategories_test = test['project_subject_subcategories'].apply(lambda x: encoder_dict.get(x, 500))\n",
    "\n",
    "\n",
    "# reshaping\n",
    "subject_subcategories_train = subject_subcategories_train.reshape(-1, 1)\n",
    "subject_subcategories_val = subject_subcategories_val.values.reshape(-1, 1)\n",
    "subject_subcategories_test = subject_subcategories_test.values.reshape(-1, 1)\n",
    "\n",
    "print(subject_subcategories_train.shape)\n",
    "print(subject_subcategories_val.shape)\n",
    "print(subject_subcategories_test.shape)"
   ]
  },
  {
   "cell_type": "code",
   "execution_count": 26,
   "metadata": {},
   "outputs": [
    {
     "name": "stdout",
     "output_type": "stream",
     "text": [
      "(145664,)\n",
      "(36416,)\n",
      "(78035,)\n"
     ]
    }
   ],
   "source": [
    "# this is a numerical feature. it doesn't need encoding. \n",
    "\n",
    "previous_projects_train = X_train['teacher_number_of_previously_posted_projects'].values\n",
    "previous_projects_val = X_val['teacher_number_of_previously_posted_projects'].values\n",
    "previous_projects_test = test['teacher_number_of_previously_posted_projects'].values\n",
    "\n",
    "print(previous_projects_train.shape)\n",
    "print(previous_projects_val.shape)\n",
    "print(previous_projects_test.shape)"
   ]
  },
  {
   "cell_type": "code",
   "execution_count": null,
   "metadata": {},
   "outputs": [],
   "source": []
  },
  {
   "cell_type": "markdown",
   "metadata": {},
   "source": [
    "# Tokenizing Text Data"
   ]
  },
  {
   "cell_type": "code",
   "execution_count": 27,
   "metadata": {},
   "outputs": [],
   "source": [
    "max_sequence_len = 256"
   ]
  },
  {
   "cell_type": "code",
   "execution_count": 28,
   "metadata": {},
   "outputs": [
    {
     "name": "stdout",
     "output_type": "stream",
     "text": [
      "(145664, 256)\n",
      "(36416, 256)\n",
      "(78035, 256)\n"
     ]
    }
   ],
   "source": [
    "# project_title\n",
    "\n",
    "\n",
    "# Tokenize our training data\n",
    "tokenizer = Tokenizer()\n",
    "tokenizer.fit_on_texts(X_train['project_title'])\n",
    "\n",
    "# Encode data sentences into sequences\n",
    "project_title_train = tokenizer.texts_to_sequences(X_train['project_title'])\n",
    "project_title_val = tokenizer.texts_to_sequences(X_val['project_title'])\n",
    "project_title_test = tokenizer.texts_to_sequences(test['project_title'])\n",
    "\n",
    "\n",
    "\n",
    "# Pad the training sequences\n",
    "project_title_train = pad_sequences(project_title_train, maxlen=max_sequence_len)\n",
    "project_title_val = pad_sequences(project_title_val, maxlen=max_sequence_len)\n",
    "project_title_test = pad_sequences(project_title_test, maxlen=max_sequence_len)\n",
    "\n",
    "print(project_title_train.shape)\n",
    "print(project_title_val.shape)\n",
    "print(project_title_test.shape)\n",
    "\n",
    "\n",
    "title_vocab_size = len(tokenizer.word_index) + 1"
   ]
  },
  {
   "cell_type": "code",
   "execution_count": 29,
   "metadata": {},
   "outputs": [
    {
     "name": "stdout",
     "output_type": "stream",
     "text": [
      "(145664, 256)\n",
      "(36416, 256)\n",
      "(78035, 256)\n"
     ]
    }
   ],
   "source": [
    "# project_resource_summary\n",
    "\n",
    "# Tokenize our training data\n",
    "tokenizer = Tokenizer()\n",
    "tokenizer.fit_on_texts(X_train['project_resource_summary'])\n",
    "\n",
    "# Encode data sentences into sequences\n",
    "project_resource_summary_train = tokenizer.texts_to_sequences(X_train['project_resource_summary'])\n",
    "project_resource_summary_val = tokenizer.texts_to_sequences(X_val['project_resource_summary'])\n",
    "project_resource_summary_test = tokenizer.texts_to_sequences(test['project_resource_summary'])\n",
    "\n",
    "\n",
    "\n",
    "# Pad the training sequences\n",
    "project_resource_summary_train = pad_sequences(project_resource_summary_train, maxlen=max_sequence_len)\n",
    "project_resource_summary_val = pad_sequences(project_resource_summary_val, maxlen=max_sequence_len)\n",
    "project_resource_summary_test = pad_sequences(project_resource_summary_test, maxlen=max_sequence_len)\n",
    "\n",
    "print(project_resource_summary_train.shape)\n",
    "print(project_resource_summary_val.shape)\n",
    "print(project_resource_summary_test.shape)\n",
    "\n",
    "\n",
    "summary_vocab_size = len(tokenizer.word_index) + 1"
   ]
  },
  {
   "cell_type": "code",
   "execution_count": 30,
   "metadata": {},
   "outputs": [
    {
     "name": "stdout",
     "output_type": "stream",
     "text": [
      "(145664, 256)\n",
      "(36416, 256)\n",
      "(78035, 256)\n"
     ]
    }
   ],
   "source": [
    "# project_essay\n",
    "\n",
    "# Tokenize our training data\n",
    "tokenizer = Tokenizer()\n",
    "tokenizer.fit_on_texts(X_train['project_essay'])\n",
    "\n",
    "# Encode data sentences into sequences\n",
    "project_essay_train = tokenizer.texts_to_sequences(X_train['project_essay'])\n",
    "project_essay_val = tokenizer.texts_to_sequences(X_val['project_essay'])\n",
    "project_essay_test = tokenizer.texts_to_sequences(test['project_essay'])\n",
    "\n",
    "\n",
    "\n",
    "# Pad the training sequences\n",
    "project_essay_train = pad_sequences(project_essay_train, maxlen=max_sequence_len)\n",
    "project_essay_val = pad_sequences(project_essay_val, maxlen=max_sequence_len)\n",
    "project_essay_test = pad_sequences(project_essay_test, maxlen=max_sequence_len)\n",
    "\n",
    "print(project_essay_train.shape)\n",
    "print(project_essay_val.shape)\n",
    "print(project_essay_test.shape)\n",
    "\n",
    "\n",
    "essay_vocab_size = len(tokenizer.word_index) + 1"
   ]
  },
  {
   "cell_type": "code",
   "execution_count": null,
   "metadata": {},
   "outputs": [],
   "source": []
  },
  {
   "cell_type": "markdown",
   "metadata": {},
   "source": [
    "# Model"
   ]
  },
  {
   "cell_type": "code",
   "execution_count": 31,
   "metadata": {},
   "outputs": [],
   "source": [
    "# using tensorflow functional API to train the model.\n",
    "\n",
    "\n",
    "######### Catgeorical Features #########\n",
    "\n",
    "# 1. Input Layer\n",
    "# 2. Embedding Layer\n",
    "# 3. Conv1D Layer\n",
    "# 4. Dropout Layer\n",
    "# 5. GlobalMaxPool1D Layer\n",
    "# 6. Dense Layer\n",
    "# 7. Dropout Layer\n",
    "# 8. Flatten Layer\n",
    "\n",
    "# Here I'll be using the same architecture for all the Categorical Features\n",
    "\n",
    "\n",
    "\n",
    "######### Numerical Feature #########\n",
    "\n",
    "# 1. Input Layer\n",
    "# 2. Dense Layer\n",
    "# 3. Dense Layer\n",
    "# 4. Dropout Layer\n",
    "# 5. Dense Layer\n",
    "# 6. Dropout Layer\n",
    "# 7. Flatten Layer\n",
    "\n",
    "# Here we have only one Numerical Feature\n",
    "\n",
    "\n",
    "\n",
    "\n",
    "######### Text Features #########\n",
    "\n",
    "# 1. Input Layer\n",
    "# 2. Embedding Layer\n",
    "# 3. Bidirectional LSTM Layer\n",
    "# 4. Dropout Layer\n",
    "# 5. Bidirectional LSTM Layer\n",
    "# 6. Dropout Layer\n",
    "# 7. Flatten Layer\n",
    "\n",
    "# Here I'll be using the same architecture for all the Text Features \n"
   ]
  },
  {
   "cell_type": "code",
   "execution_count": 32,
   "metadata": {},
   "outputs": [],
   "source": [
    "# Categorical Features\n",
    "\n",
    "# teacher_prefix\n",
    "input_teacher_prefix = Input(shape=(1, ), name='input_teacher_prefix')\n",
    "embed_layer = Embedding(len(np.unique(teacher_prefix_train))+1, 100, name='teacher_prefix_1')(input_teacher_prefix)\n",
    "conv_layer = Conv1D(filters=64, kernel_size=1, activation='relu', name='teacher_prefix_2')(embed_layer)\n",
    "dropout = Dropout(0.3)(conv_layer)\n",
    "max_pool = GlobalMaxPool1D()(dropout)\n",
    "dense = Dense(32, activation='relu', name='layer_3_teacher_prefix')(max_pool)\n",
    "dropout = Dropout(0.3)(dense)\n",
    "flatten_1 = Flatten()(dropout)\n",
    "\n",
    "\n",
    "# school_state\n",
    "input_school_state = Input(shape=(1, ), name='input_school_state')\n",
    "embed_layer = Embedding(len(np.unique(school_state_train))+1, 100, name='school_state_1')(input_school_state)\n",
    "conv_layer = Conv1D(filters=64, kernel_size=1, activation='relu', name='school_state_2')(embed_layer)\n",
    "dropout = Dropout(0.3)(conv_layer)\n",
    "max_pool = GlobalMaxPool1D()(dropout)\n",
    "dense = Dense(32, activation='relu', name='school_state_3')(max_pool)\n",
    "dropout = Dropout(0.3)(dense)\n",
    "flatten_2 = Flatten()(dropout)\n",
    "\n",
    "\n",
    "# project_grade_category\n",
    "input_grade_category = Input(shape=(1, ), name='input_grade_category')\n",
    "embed_layer = Embedding(len(np.unique(project_grade_category_train))+1, 100, name='grade_category_1')(input_grade_category)\n",
    "conv_layer = Conv1D(filters=64, kernel_size=1, activation='relu', name='grade_category_2')(embed_layer)\n",
    "dropout = Dropout(0.3)(conv_layer)\n",
    "max_pool = GlobalMaxPool1D()(dropout)\n",
    "dense = Dense(32, activation='relu', name='grade_category_3')(max_pool)\n",
    "dropout = Dropout(0.3)(dense)\n",
    "flatten_3 = Flatten()(dropout)\n",
    "\n",
    "\n",
    "# project_subject_categories\n",
    "input_subject_categories = Input(shape=(1, ), name='input_subject_categories')\n",
    "embed_layer = Embedding(len(np.unique(subject_categories_train))+1, 100, name='subject_categories_1')(input_subject_categories)\n",
    "conv_layer = Conv1D(filters=64, kernel_size=1, activation='relu', name='subject_categories_2')(embed_layer)\n",
    "dropout = Dropout(0.3)(conv_layer)\n",
    "max_pool = GlobalMaxPool1D()(dropout)\n",
    "dense = Dense(32, activation='relu', name='subject_categories_3')(max_pool)\n",
    "flatten_4 = Flatten()(dense)\n",
    "\n",
    "\n",
    "# project_subject_subcategories\n",
    "input_subject_subcategories = Input(shape=(1, ), name='input_subject_subcategories')\n",
    "embed_layer = Embedding(501, 100, name='subject_subcategories_1')(input_subject_subcategories)\n",
    "conv_layer = Conv1D(filters=64, kernel_size=1, activation='relu', name='subject_subcategories_2')(embed_layer)\n",
    "dropout = Dropout(0.3)(conv_layer)\n",
    "max_pool = GlobalMaxPool1D()(dropout)\n",
    "dense = Dense(32, activation='relu', name='subject_subcategories_3')(max_pool)\n",
    "flatten_5 = Flatten()(dense)"
   ]
  },
  {
   "cell_type": "code",
   "execution_count": 33,
   "metadata": {},
   "outputs": [],
   "source": [
    "# Numerical Feature\n",
    "\n",
    "# teacher_number_of_previously_posted_projects \n",
    "input_previous_projects = Input(shape=(1, ), name='input_previous_projects')\n",
    "dense = Dense(128, activation='relu', name='previous_projects_1')(input_previous_projects)\n",
    "dense = Dense(64, activation='relu', name='previous_projects_2')(dense)\n",
    "dropout = Dropout(0.3)(dense)\n",
    "dense = Dense(32, activation='relu', name='previous_project_3')(dropout)\n",
    "dropout = Dropout(0.3)(dense)\n",
    "flatten_6 = Flatten()(dropout)\n"
   ]
  },
  {
   "cell_type": "code",
   "execution_count": 34,
   "metadata": {},
   "outputs": [],
   "source": [
    "# Text Features\n",
    "\n",
    "# project_title\n",
    "input_project_title = Input(shape=(max_sequence_len, ), name='input_project_title')\n",
    "embed_layer = Embedding(title_vocab_size, input_length=max_sequence_len, output_dim=64)(input_project_title)\n",
    "lstm = Bidirectional(LSTM(128, return_sequences=True, name='project_title_1'))(embed_layer)\n",
    "dropout = Dropout(0.3)(lstm)\n",
    "lstm = Bidirectional(LSTM(64, name='project_title_2'))(dropout)\n",
    "dropout = Dropout(0.4)(lstm)\n",
    "flatten_7 = Flatten()(dropout)\n",
    "\n",
    "\n",
    "# project_resource_summary\n",
    "input_resource_summary = Input(shape=(max_sequence_len, ), name='input_resource_summary')\n",
    "embed_layer = Embedding(summary_vocab_size, input_length=max_sequence_len, output_dim=64)(input_resource_summary)\n",
    "lstm = Bidirectional(LSTM(128, return_sequences=True, name='resource_summary_1'))(embed_layer)\n",
    "dropout = Dropout(0.3)(lstm)\n",
    "lstm = Bidirectional(LSTM(64, name='resource_summary_2'))(dropout)\n",
    "dropout = Dropout(0.4)(lstm)\n",
    "flatten_8 = Flatten()(dropout)\n",
    "\n",
    "\n",
    "# project_essay\n",
    "input_project_essay = Input(shape=(max_sequence_len, ), name='input_project_essay')\n",
    "embed_layer = Embedding(essay_vocab_size, input_length=max_sequence_len, output_dim=64)(input_project_essay)\n",
    "lstm = Bidirectional(LSTM(128, return_sequences=True, name='project_essay_1'))(embed_layer)\n",
    "dropout = Dropout(0.3)(lstm)\n",
    "lstm = Bidirectional(LSTM(64, name='project_essay_2'))(dropout)\n",
    "dropout = Dropout(0.4)(lstm)\n",
    "flatten_9 = Flatten()(dropout)\n",
    "\n"
   ]
  },
  {
   "cell_type": "code",
   "execution_count": 35,
   "metadata": {},
   "outputs": [],
   "source": [
    "# combining layers\n",
    "concat = concatenate(inputs=[flatten_1, flatten_2, flatten_3, flatten_4, flatten_5, flatten_6, flatten_7, \\\n",
    "                            flatten_8, flatten_9], name='concat')\n",
    "\n",
    "Dense_1 = Dense(128, activation='relu', name='Dense_1', kernel_regularizer=regularizers.l2(0.0001))(concat)\n",
    "dropout = Dropout(0.3)(Dense_1)\n",
    "batch_norm = BatchNormalization()(dropout)\n",
    "\n",
    "Dense_2 = Dense(64, activation='relu', name='Dense_2', kernel_regularizer=regularizers.l2(0.0001))(batch_norm)\n",
    "dropout = Dropout(0.5)(Dense_2)\n",
    "\n",
    "output = Dense(1, activation='sigmoid', name='output')(dropout)"
   ]
  },
  {
   "cell_type": "code",
   "execution_count": 36,
   "metadata": {},
   "outputs": [
    {
     "name": "stdout",
     "output_type": "stream",
     "text": [
      "Model: \"model\"\n",
      "__________________________________________________________________________________________________\n",
      "Layer (type)                    Output Shape         Param #     Connected to                     \n",
      "==================================================================================================\n",
      "input_teacher_prefix (InputLaye [(None, 1)]          0                                            \n",
      "__________________________________________________________________________________________________\n",
      "input_school_state (InputLayer) [(None, 1)]          0                                            \n",
      "__________________________________________________________________________________________________\n",
      "input_grade_category (InputLaye [(None, 1)]          0                                            \n",
      "__________________________________________________________________________________________________\n",
      "teacher_prefix_1 (Embedding)    (None, 1, 100)       700         input_teacher_prefix[0][0]       \n",
      "__________________________________________________________________________________________________\n",
      "school_state_1 (Embedding)      (None, 1, 100)       5200        input_school_state[0][0]         \n",
      "__________________________________________________________________________________________________\n",
      "grade_category_1 (Embedding)    (None, 1, 100)       500         input_grade_category[0][0]       \n",
      "__________________________________________________________________________________________________\n",
      "input_subject_categories (Input [(None, 1)]          0                                            \n",
      "__________________________________________________________________________________________________\n",
      "input_subject_subcategories (In [(None, 1)]          0                                            \n",
      "__________________________________________________________________________________________________\n",
      "input_previous_projects (InputL [(None, 1)]          0                                            \n",
      "__________________________________________________________________________________________________\n",
      "input_project_title (InputLayer [(None, 256)]        0                                            \n",
      "__________________________________________________________________________________________________\n",
      "input_resource_summary (InputLa [(None, 256)]        0                                            \n",
      "__________________________________________________________________________________________________\n",
      "input_project_essay (InputLayer [(None, 256)]        0                                            \n",
      "__________________________________________________________________________________________________\n",
      "teacher_prefix_2 (Conv1D)       (None, 1, 64)        6464        teacher_prefix_1[0][0]           \n",
      "__________________________________________________________________________________________________\n",
      "school_state_2 (Conv1D)         (None, 1, 64)        6464        school_state_1[0][0]             \n",
      "__________________________________________________________________________________________________\n",
      "grade_category_2 (Conv1D)       (None, 1, 64)        6464        grade_category_1[0][0]           \n",
      "__________________________________________________________________________________________________\n",
      "subject_categories_1 (Embedding (None, 1, 100)       5200        input_subject_categories[0][0]   \n",
      "__________________________________________________________________________________________________\n",
      "subject_subcategories_1 (Embedd (None, 1, 100)       50100       input_subject_subcategories[0][0]\n",
      "__________________________________________________________________________________________________\n",
      "previous_projects_1 (Dense)     (None, 128)          256         input_previous_projects[0][0]    \n",
      "__________________________________________________________________________________________________\n",
      "embedding (Embedding)           (None, 256, 64)      1216000     input_project_title[0][0]        \n",
      "__________________________________________________________________________________________________\n",
      "embedding_1 (Embedding)         (None, 256, 64)      1563776     input_resource_summary[0][0]     \n",
      "__________________________________________________________________________________________________\n",
      "embedding_2 (Embedding)         (None, 256, 64)      3905536     input_project_essay[0][0]        \n",
      "__________________________________________________________________________________________________\n",
      "dropout (Dropout)               (None, 1, 64)        0           teacher_prefix_2[0][0]           \n",
      "__________________________________________________________________________________________________\n",
      "dropout_2 (Dropout)             (None, 1, 64)        0           school_state_2[0][0]             \n",
      "__________________________________________________________________________________________________\n",
      "dropout_4 (Dropout)             (None, 1, 64)        0           grade_category_2[0][0]           \n",
      "__________________________________________________________________________________________________\n",
      "subject_categories_2 (Conv1D)   (None, 1, 64)        6464        subject_categories_1[0][0]       \n",
      "__________________________________________________________________________________________________\n",
      "subject_subcategories_2 (Conv1D (None, 1, 64)        6464        subject_subcategories_1[0][0]    \n",
      "__________________________________________________________________________________________________\n",
      "previous_projects_2 (Dense)     (None, 64)           8256        previous_projects_1[0][0]        \n",
      "__________________________________________________________________________________________________\n",
      "bidirectional (Bidirectional)   (None, 256, 256)     197632      embedding[0][0]                  \n",
      "__________________________________________________________________________________________________\n",
      "bidirectional_2 (Bidirectional) (None, 256, 256)     197632      embedding_1[0][0]                \n",
      "__________________________________________________________________________________________________\n",
      "bidirectional_4 (Bidirectional) (None, 256, 256)     197632      embedding_2[0][0]                \n",
      "__________________________________________________________________________________________________\n",
      "global_max_pooling1d (GlobalMax (None, 64)           0           dropout[0][0]                    \n",
      "__________________________________________________________________________________________________\n",
      "global_max_pooling1d_1 (GlobalM (None, 64)           0           dropout_2[0][0]                  \n",
      "__________________________________________________________________________________________________\n",
      "global_max_pooling1d_2 (GlobalM (None, 64)           0           dropout_4[0][0]                  \n",
      "__________________________________________________________________________________________________\n",
      "dropout_6 (Dropout)             (None, 1, 64)        0           subject_categories_2[0][0]       \n",
      "__________________________________________________________________________________________________\n",
      "dropout_7 (Dropout)             (None, 1, 64)        0           subject_subcategories_2[0][0]    \n",
      "__________________________________________________________________________________________________\n",
      "dropout_8 (Dropout)             (None, 64)           0           previous_projects_2[0][0]        \n",
      "__________________________________________________________________________________________________\n",
      "dropout_10 (Dropout)            (None, 256, 256)     0           bidirectional[0][0]              \n",
      "__________________________________________________________________________________________________\n",
      "dropout_12 (Dropout)            (None, 256, 256)     0           bidirectional_2[0][0]            \n",
      "__________________________________________________________________________________________________\n",
      "dropout_14 (Dropout)            (None, 256, 256)     0           bidirectional_4[0][0]            \n",
      "__________________________________________________________________________________________________\n",
      "layer_3_teacher_prefix (Dense)  (None, 32)           2080        global_max_pooling1d[0][0]       \n",
      "__________________________________________________________________________________________________\n",
      "school_state_3 (Dense)          (None, 32)           2080        global_max_pooling1d_1[0][0]     \n",
      "__________________________________________________________________________________________________\n",
      "grade_category_3 (Dense)        (None, 32)           2080        global_max_pooling1d_2[0][0]     \n",
      "__________________________________________________________________________________________________\n",
      "global_max_pooling1d_3 (GlobalM (None, 64)           0           dropout_6[0][0]                  \n",
      "__________________________________________________________________________________________________\n",
      "global_max_pooling1d_4 (GlobalM (None, 64)           0           dropout_7[0][0]                  \n",
      "__________________________________________________________________________________________________\n",
      "previous_project_3 (Dense)      (None, 32)           2080        dropout_8[0][0]                  \n",
      "__________________________________________________________________________________________________\n",
      "bidirectional_1 (Bidirectional) (None, 128)          164352      dropout_10[0][0]                 \n",
      "__________________________________________________________________________________________________\n",
      "bidirectional_3 (Bidirectional) (None, 128)          164352      dropout_12[0][0]                 \n",
      "__________________________________________________________________________________________________\n",
      "bidirectional_5 (Bidirectional) (None, 128)          164352      dropout_14[0][0]                 \n",
      "__________________________________________________________________________________________________\n",
      "dropout_1 (Dropout)             (None, 32)           0           layer_3_teacher_prefix[0][0]     \n",
      "__________________________________________________________________________________________________\n",
      "dropout_3 (Dropout)             (None, 32)           0           school_state_3[0][0]             \n",
      "__________________________________________________________________________________________________\n",
      "dropout_5 (Dropout)             (None, 32)           0           grade_category_3[0][0]           \n",
      "__________________________________________________________________________________________________\n",
      "subject_categories_3 (Dense)    (None, 32)           2080        global_max_pooling1d_3[0][0]     \n",
      "__________________________________________________________________________________________________\n",
      "subject_subcategories_3 (Dense) (None, 32)           2080        global_max_pooling1d_4[0][0]     \n",
      "__________________________________________________________________________________________________\n",
      "dropout_9 (Dropout)             (None, 32)           0           previous_project_3[0][0]         \n",
      "__________________________________________________________________________________________________\n",
      "dropout_11 (Dropout)            (None, 128)          0           bidirectional_1[0][0]            \n",
      "__________________________________________________________________________________________________\n",
      "dropout_13 (Dropout)            (None, 128)          0           bidirectional_3[0][0]            \n",
      "__________________________________________________________________________________________________\n",
      "dropout_15 (Dropout)            (None, 128)          0           bidirectional_5[0][0]            \n",
      "__________________________________________________________________________________________________\n",
      "flatten (Flatten)               (None, 32)           0           dropout_1[0][0]                  \n",
      "__________________________________________________________________________________________________\n",
      "flatten_1 (Flatten)             (None, 32)           0           dropout_3[0][0]                  \n",
      "__________________________________________________________________________________________________\n",
      "flatten_2 (Flatten)             (None, 32)           0           dropout_5[0][0]                  \n",
      "__________________________________________________________________________________________________\n",
      "flatten_3 (Flatten)             (None, 32)           0           subject_categories_3[0][0]       \n",
      "__________________________________________________________________________________________________\n",
      "flatten_4 (Flatten)             (None, 32)           0           subject_subcategories_3[0][0]    \n",
      "__________________________________________________________________________________________________\n",
      "flatten_5 (Flatten)             (None, 32)           0           dropout_9[0][0]                  \n",
      "__________________________________________________________________________________________________\n",
      "flatten_6 (Flatten)             (None, 128)          0           dropout_11[0][0]                 \n",
      "__________________________________________________________________________________________________\n",
      "flatten_7 (Flatten)             (None, 128)          0           dropout_13[0][0]                 \n",
      "__________________________________________________________________________________________________\n",
      "flatten_8 (Flatten)             (None, 128)          0           dropout_15[0][0]                 \n",
      "__________________________________________________________________________________________________\n",
      "concat (Concatenate)            (None, 576)          0           flatten[0][0]                    \n",
      "                                                                 flatten_1[0][0]                  \n",
      "                                                                 flatten_2[0][0]                  \n",
      "                                                                 flatten_3[0][0]                  \n",
      "                                                                 flatten_4[0][0]                  \n",
      "                                                                 flatten_5[0][0]                  \n",
      "                                                                 flatten_6[0][0]                  \n",
      "                                                                 flatten_7[0][0]                  \n",
      "                                                                 flatten_8[0][0]                  \n",
      "__________________________________________________________________________________________________\n",
      "Dense_1 (Dense)                 (None, 128)          73856       concat[0][0]                     \n",
      "__________________________________________________________________________________________________\n",
      "dropout_16 (Dropout)            (None, 128)          0           Dense_1[0][0]                    \n",
      "__________________________________________________________________________________________________\n",
      "batch_normalization (BatchNorma (None, 128)          512         dropout_16[0][0]                 \n",
      "__________________________________________________________________________________________________\n",
      "Dense_2 (Dense)                 (None, 64)           8256        batch_normalization[0][0]        \n",
      "__________________________________________________________________________________________________\n",
      "dropout_17 (Dropout)            (None, 64)           0           Dense_2[0][0]                    \n",
      "__________________________________________________________________________________________________\n",
      "output (Dense)                  (None, 1)            65          dropout_17[0][0]                 \n",
      "==================================================================================================\n",
      "Total params: 7,968,965\n",
      "Trainable params: 7,968,709\n",
      "Non-trainable params: 256\n",
      "__________________________________________________________________________________________________\n"
     ]
    }
   ],
   "source": [
    "# defining the model\n",
    "\n",
    "model = Model(inputs=[input_teacher_prefix, input_school_state, input_grade_category, input_subject_categories, \\\n",
    "                     input_subject_subcategories, input_previous_projects, input_project_title, \\\n",
    "                     input_resource_summary, input_project_essay], \\\n",
    "             outputs=output)\n",
    "model.summary()"
   ]
  },
  {
   "cell_type": "code",
   "execution_count": 37,
   "metadata": {},
   "outputs": [
    {
     "data": {
      "image/png": "[encoded data removed]",
      "text/plain": [
       "<IPython.core.display.Image object>"
      ]
     },
     "execution_count": 37,
     "metadata": {},
     "output_type": "execute_result"
    }
   ],
   "source": [
    "# plotting the entire model architecture\n",
    "plot_model(model, to_file='model.png', show_layer_names=False)"
   ]
  },
  {
   "cell_type": "code",
   "execution_count": 38,
   "metadata": {},
   "outputs": [],
   "source": [
    "# compiling the model\n",
    "model.compile(optimizer='RMSprop', loss='binary_crossentropy', metrics=['accuracy', tf.keras.metrics.AUC()])"
   ]
  },
  {
   "cell_type": "code",
   "execution_count": 39,
   "metadata": {},
   "outputs": [],
   "source": [
    "# combinig all the inputs\n",
    "\n",
    "# train\n",
    "all_inputs_train = [teacher_prefix_train, school_state_train, project_grade_category_train, subject_categories_train, subject_subcategories_train, \\\n",
    "                    previous_projects_train, project_title_train, project_resource_summary_train, project_essay_train]\n",
    "                   \n",
    "\n",
    "# val\n",
    "all_inputs_val = [teacher_prefix_val, school_state_val, project_grade_category_val, subject_categories_val, subject_subcategories_val, \\\n",
    "                  previous_projects_val, project_title_val, project_resource_summary_val, project_essay_val]\n",
    "                 \n",
    "# test\n",
    "all_inputs_test = [teacher_prefix_test, school_state_test, project_grade_category_test, subject_categories_test, subject_subcategories_test, \\\n",
    "                   previous_projects_test, project_title_test, project_resource_summary_test, project_essay_test]"
   ]
  },
  {
   "cell_type": "code",
   "execution_count": 40,
   "metadata": {},
   "outputs": [],
   "source": [
    "# early stopping\n",
    "early_stopping = EarlyStopping(monitor=\"val_loss\", mode=\"auto\", patience=5, restore_best_weights=True)\n",
    "\n",
    "# learning rate\n",
    "learning_rate = ReduceLROnPlateau(monitor='val_loss', patience=3, verbose=1, mode='auto')\n",
    "\n",
    "callbacks = [early_stopping, learning_rate]"
   ]
  },
  {
   "cell_type": "code",
   "execution_count": 41,
   "metadata": {},
   "outputs": [
    {
     "name": "stdout",
     "output_type": "stream",
     "text": [
      "Epoch 1/15\n",
      "285/285 [==============================] - 161s 564ms/step - loss: 0.4619 - accuracy: 0.8310 - auc: 0.6519 - val_loss: 0.4375 - val_accuracy: 0.8477 - val_auc: 0.7365 - lr: 0.0010\n",
      "Epoch 2/15\n",
      "285/285 [==============================] - 157s 551ms/step - loss: 0.3838 - accuracy: 0.8543 - auc: 0.7520 - val_loss: 0.3982 - val_accuracy: 0.8509 - val_auc: 0.7505 - lr: 0.0010\n",
      "Epoch 3/15\n",
      "285/285 [==============================] - 156s 547ms/step - loss: 0.3645 - accuracy: 0.8593 - auc: 0.7792 - val_loss: 0.4595 - val_accuracy: 0.8322 - val_auc: 0.7414 - lr: 0.0010\n",
      "Epoch 4/15\n",
      "285/285 [==============================] - 156s 549ms/step - loss: 0.3474 - accuracy: 0.8649 - auc: 0.8032 - val_loss: 0.3842 - val_accuracy: 0.8498 - val_auc: 0.7482 - lr: 0.0010\n",
      "Epoch 5/15\n",
      "285/285 [==============================] - 157s 550ms/step - loss: 0.3298 - accuracy: 0.8724 - auc: 0.8253 - val_loss: 0.5562 - val_accuracy: 0.8481 - val_auc: 0.7239 - lr: 0.0010\n",
      "Epoch 6/15\n",
      "285/285 [==============================] - 156s 548ms/step - loss: 0.3103 - accuracy: 0.8797 - auc: 0.8488 - val_loss: 0.4509 - val_accuracy: 0.8513 - val_auc: 0.7361 - lr: 0.0010\n",
      "Epoch 7/15\n",
      "285/285 [==============================] - ETA: 0s - loss: 0.2871 - accuracy: 0.8903 - auc: 0.8726\n",
      "Epoch 00007: ReduceLROnPlateau reducing learning rate to 0.00010000000474974513.\n",
      "285/285 [==============================] - 156s 547ms/step - loss: 0.2871 - accuracy: 0.8903 - auc: 0.8726 - val_loss: 0.4588 - val_accuracy: 0.8213 - val_auc: 0.7292 - lr: 0.0010\n",
      "Epoch 8/15\n",
      "285/285 [==============================] - 157s 550ms/step - loss: 0.2374 - accuracy: 0.9130 - auc: 0.9139 - val_loss: 0.4825 - val_accuracy: 0.8230 - val_auc: 0.7038 - lr: 1.0000e-04\n",
      "Epoch 9/15\n",
      "285/285 [==============================] - 156s 547ms/step - loss: 0.2265 - accuracy: 0.9177 - auc: 0.9219 - val_loss: 0.4973 - val_accuracy: 0.8252 - val_auc: 0.6963 - lr: 1.0000e-04\n"
     ]
    }
   ],
   "source": [
    "# Training the Model\n",
    "history = model.fit(all_inputs_train, y_train, batch_size=512, epochs=15, \\\n",
    "         validation_data=(all_inputs_val, y_val), callbacks=callbacks)"
   ]
  },
  {
   "cell_type": "code",
   "execution_count": 78,
   "metadata": {},
   "outputs": [],
   "source": [
    "# making predictions on test data\n",
    "test_pred = model.predict(all_inputs_test)"
   ]
  },
  {
   "cell_type": "code",
   "execution_count": 79,
   "metadata": {},
   "outputs": [
    {
     "data": {
      "text/plain": [
       "array([[0.9451736 ],\n",
       "       [0.9613482 ],\n",
       "       [0.93028283],\n",
       "       [0.95751107],\n",
       "       [0.93287057]], dtype=float32)"
      ]
     },
     "execution_count": 79,
     "metadata": {},
     "output_type": "execute_result"
    }
   ],
   "source": [
    "test_pred[:5]"
   ]
  },
  {
   "cell_type": "code",
   "execution_count": 44,
   "metadata": {},
   "outputs": [],
   "source": [
    "sample['project_is_approved'] = test_pred"
   ]
  },
  {
   "cell_type": "code",
   "execution_count": 46,
   "metadata": {},
   "outputs": [],
   "source": [
    "sample.to_csv('v4_dl.csv', index=False)"
   ]
  },
  {
   "cell_type": "code",
   "execution_count": null,
   "metadata": {},
   "outputs": [],
   "source": []
  },
  {
   "cell_type": "code",
   "execution_count": null,
   "metadata": {},
   "outputs": [],
   "source": []
  }
 ],
 "metadata": {
  "kernelspec": {
   "display_name": "Python 3",
   "language": "python",
   "name": "python3"
  },
  "language_info": {
   "codemirror_mode": {
    "name": "ipython",
    "version": 3
   },
   "file_extension": ".py",
   "mimetype": "text/x-python",
   "name": "python",
   "nbconvert_exporter": "python",
   "pygments_lexer": "ipython3",
   "version": "3.8.2"
  }
 },
 "nbformat": 4,
 "nbformat_minor": 4
}
